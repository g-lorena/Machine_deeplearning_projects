{
 "cells": [
  {
   "cell_type": "code",
   "execution_count": 42,
   "metadata": {},
   "outputs": [],
   "source": [
    "# creer une fontion qui prend en parametre une liste\n",
    "\n",
    "def incrementLastValue(maListe):\n",
    "    dernierElement = maListe[-1]\n",
    "    dernierElement = dernierElement + 1\n",
    "    maListe[-1] = dernierElement\n",
    "    return maListe\n",
    "        \n",
    "def verified(maListe):\n",
    "    var = 0\n",
    "    # verifions si les parametres de la liste sont bien compris entre 0 et 9 et que la taille max est de 100\n",
    "    if(len(maListe)) < 100:\n",
    "        for element in maListe:\n",
    "            if element>=0 and element<=9 :\n",
    "                var = var + 1\n",
    "                print(element)\n",
    "            else : \n",
    "                print(\"Element\",element,\"trop grand. Veuillez le changer\")\n",
    "    else:\n",
    "        print('taille trop grande expect 100 chiffres')\n",
    "    return var"
   ]
  },
  {
   "cell_type": "code",
   "execution_count": 43,
   "metadata": {},
   "outputs": [],
   "source": [
    "def coding(maListe):\n",
    "    var = verified(maListe)\n",
    "    if(var == len(maListe)):\n",
    "        valueChange = incrementLastValue(maListe)\n",
    "        return valueChange"
   ]
  },
  {
   "cell_type": "code",
   "execution_count": 44,
   "metadata": {},
   "outputs": [
    {
     "name": "stdout",
     "output_type": "stream",
     "text": [
      "2\n",
      "Element 100 trop grand. Veillez le changer\n"
     ]
    }
   ],
   "source": [
    "maListe = [2,100]\n",
    "coding(maListe)"
   ]
  },
  {
   "cell_type": "code",
   "execution_count": null,
   "metadata": {},
   "outputs": [],
   "source": []
  }
 ],
 "metadata": {
  "kernelspec": {
   "display_name": "Python 3",
   "language": "python",
   "name": "python3"
  },
  "language_info": {
   "codemirror_mode": {
    "name": "ipython",
    "version": 3
   },
   "file_extension": ".py",
   "mimetype": "text/x-python",
   "name": "python",
   "nbconvert_exporter": "python",
   "pygments_lexer": "ipython3",
   "version": "3.7.4"
  }
 },
 "nbformat": 4,
 "nbformat_minor": 4
}
